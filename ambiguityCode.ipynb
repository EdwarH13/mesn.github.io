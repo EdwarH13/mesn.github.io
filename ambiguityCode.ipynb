{
 "cells": [
  {
   "cell_type": "code",
   "execution_count": 4,
   "metadata": {},
   "outputs": [
    {
     "name": "stdout",
     "output_type": "stream",
     "text": [
      "Clusters saved in the 'clusters_output' directory with 8 clusters.\n"
     ]
    }
   ],
   "source": [
    "import pandas as pd\n",
    "import nltk\n",
    "import torch\n",
    "import os\n",
    "from sklearn.cluster import KMeans\n",
    "from sklearn.metrics import silhouette_score\n",
    "from transformers import BertTokenizer, BertModel\n",
    "import matplotlib.pyplot as plt\n",
    "from nltk.tokenize import sent_tokenize\n",
    "\n",
    "# Load the requirements data\n",
    "with open('nfr (1).txt', 'r') as file:\n",
    "    text = file.read()\n",
    "\n",
    "# Sentence tokenization\n",
    "sentences = sent_tokenize(text)\n",
    "\n",
    "# BERT model setup\n",
    "tokenizer = BertTokenizer.from_pretrained('bert-base-uncased')\n",
    "model = BertModel.from_pretrained('bert-base-uncased')\n",
    "\n",
    "# Generate embeddings\n",
    "def get_embeddings(sentences):\n",
    "    embeddings = []\n",
    "    for sentence in sentences:\n",
    "        inputs = tokenizer(sentence, return_tensors='pt', padding=True, truncation=True, max_length=512)\n",
    "        outputs = model(**inputs)\n",
    "        embeddings.append(outputs.last_hidden_state.mean(dim=1).squeeze().detach().numpy())\n",
    "    return embeddings\n",
    "\n",
    "embeddings = get_embeddings(sentences)\n",
    "\n",
    "# Set the number of clusters to 9\n",
    "num_clusters = 9\n",
    "\n",
    "# Clustering using K-means with 9 clusters\n",
    "kmeans = KMeans(n_clusters=num_clusters)\n",
    "labels = kmeans.fit_predict(embeddings)\n",
    "\n",
    "# Create directory for clusters\n",
    "output_dir = 'clusters_output'\n",
    "os.makedirs(output_dir, exist_ok=True)\n",
    "\n",
    "# Write sentences to cluster files\n",
    "clustered_sentences = {i: [] for i in range(num_clusters)}\n",
    "for i, sentence in enumerate(sentences):\n",
    "    clustered_sentences[labels[i]].append(sentence)\n",
    "\n",
    "for cluster_id, cluster_sentences in clustered_sentences.items():\n",
    "    with open(os.path.join(output_dir, f'cluster_{cluster_id}.txt'), 'w') as file:\n",
    "        for sentence in cluster_sentences:\n",
    "            file.write(sentence + '\\n')\n",
    "\n",
    "print(f\"Clusters saved in the '{output_dir}' directory with {num_clusters} clusters.\")\n"
   ]
  }
 ],
 "metadata": {
  "kernelspec": {
   "display_name": "Python 3",
   "language": "python",
   "name": "python3"
  },
  "language_info": {
   "codemirror_mode": {
    "name": "ipython",
    "version": 3
   },
   "file_extension": ".py",
   "mimetype": "text/x-python",
   "name": "python",
   "nbconvert_exporter": "python",
   "pygments_lexer": "ipython3",
   "version": "3.12.3"
  }
 },
 "nbformat": 4,
 "nbformat_minor": 2
}
